{
 "cells": [
  {
   "cell_type": "code",
   "execution_count": 1,
   "metadata": {},
   "outputs": [],
   "source": [
    "from url_handler import ParserData, ParserController, ParserInterface"
   ]
  },
  {
   "cell_type": "code",
   "execution_count": 2,
   "metadata": {},
   "outputs": [],
   "source": [
    "# Remove unwanted columns...\n",
    "new_file_data = \"\"\n",
    "with open(\"./req_fake_data.csv\", mode='r') as _f:\n",
    "    for _el in _f:\n",
    "        if(_el[-2]==\",\"):\n",
    "            new_file_data += _el[:-2]+\"\\n\"\n",
    "\n",
    "if not new_file_data == \"\":\n",
    "    with open(\"./req_fake_data.csv\", mode='w') as _f:\n",
    "        _f.write(new_file_data)"
   ]
  },
  {
   "cell_type": "code",
   "execution_count": 3,
   "metadata": {},
   "outputs": [
    {
     "data": {
      "text/html": [
       "<div>\n",
       "<style scoped>\n",
       "    .dataframe tbody tr th:only-of-type {\n",
       "        vertical-align: middle;\n",
       "    }\n",
       "\n",
       "    .dataframe tbody tr th {\n",
       "        vertical-align: top;\n",
       "    }\n",
       "\n",
       "    .dataframe thead th {\n",
       "        text-align: right;\n",
       "    }\n",
       "</style>\n",
       "<table border=\"1\" class=\"dataframe\">\n",
       "  <thead>\n",
       "    <tr style=\"text-align: right;\">\n",
       "      <th></th>\n",
       "      <th>path</th>\n",
       "      <th>date</th>\n",
       "    </tr>\n",
       "  </thead>\n",
       "  <tbody>\n",
       "    <tr>\n",
       "      <th>0</th>\n",
       "      <td>admin/</td>\n",
       "      <td>2022-10-10 07:42:19</td>\n",
       "    </tr>\n",
       "    <tr>\n",
       "      <th>1</th>\n",
       "      <td>admin/login/</td>\n",
       "      <td>2022-10-23 14:33:24</td>\n",
       "    </tr>\n",
       "    <tr>\n",
       "      <th>2</th>\n",
       "      <td>admin/logout/</td>\n",
       "      <td>2022-10-09 18:30:36</td>\n",
       "    </tr>\n",
       "    <tr>\n",
       "      <th>3</th>\n",
       "      <td>admin/update/</td>\n",
       "      <td>2022-10-12 14:34:49</td>\n",
       "    </tr>\n",
       "    <tr>\n",
       "      <th>4</th>\n",
       "      <td>kittens/</td>\n",
       "      <td>2022-10-06 13:09:37</td>\n",
       "    </tr>\n",
       "  </tbody>\n",
       "</table>\n",
       "</div>"
      ],
      "text/plain": [
       "            path                 date\n",
       "0         admin/  2022-10-10 07:42:19\n",
       "1   admin/login/  2022-10-23 14:33:24\n",
       "2  admin/logout/  2022-10-09 18:30:36\n",
       "3  admin/update/  2022-10-12 14:34:49\n",
       "4       kittens/  2022-10-06 13:09:37"
      ]
     },
     "execution_count": 3,
     "metadata": {},
     "output_type": "execute_result"
    }
   ],
   "source": [
    "path_to_csv = \"./req_fake_data.csv\"\n",
    "\n",
    "test_data = ParserData(path_to_csv)\n",
    "test_data.dataframe.head(5)"
   ]
  },
  {
   "cell_type": "code",
   "execution_count": 4,
   "metadata": {},
   "outputs": [
    {
     "data": {
      "text/plain": [
       "0    2022-10-10 07:42:19\n",
       "1    2022-10-23 14:33:24\n",
       "2    2022-10-09 18:30:36\n",
       "3    2022-10-12 14:34:49\n",
       "4    2022-10-06 13:09:37\n",
       "5    2022-10-06 23:27:11\n",
       "6    2022-10-14 15:31:54\n",
       "7    2022-10-30 06:34:36\n",
       "8    2022-10-30 20:42:37\n",
       "9    2022-10-28 07:58:58\n",
       "10   2022-10-16 14:30:52\n",
       "11   2022-10-20 20:12:07\n",
       "12   2022-10-02 22:33:43\n",
       "13   2022-10-03 20:51:42\n",
       "14   2022-10-04 00:50:51\n",
       "15   2022-10-26 23:47:48\n",
       "16   2022-10-19 03:43:10\n",
       "17   2022-10-26 20:32:27\n",
       "18   2022-10-14 19:13:22\n",
       "19   2022-10-25 05:44:58\n",
       "20   2022-10-14 21:07:02\n",
       "21   2022-10-05 01:34:52\n",
       "22   2022-10-19 10:25:19\n",
       "23   2022-10-30 07:42:35\n",
       "24   2022-10-13 18:00:02\n",
       "25   2022-10-29 03:45:00\n",
       "26   2022-10-31 14:41:39\n",
       "27   2022-10-03 09:03:18\n",
       "28   2022-10-12 16:08:38\n",
       "29   2022-10-05 03:13:40\n",
       "30   2022-10-06 09:48:38\n",
       "31   2022-10-20 07:09:51\n",
       "32   2022-10-14 08:43:30\n",
       "33   2022-10-22 01:42:53\n",
       "34   2022-10-24 17:38:47\n",
       "35   2022-10-23 05:27:20\n",
       "36   2022-10-29 17:18:03\n",
       "37   2022-10-28 15:56:57\n",
       "38   2022-10-24 01:23:18\n",
       "39   2022-10-21 16:58:08\n",
       "40   2022-10-16 23:22:02\n",
       "41   2022-10-17 02:23:48\n",
       "42   2022-10-30 06:14:43\n",
       "43   2022-10-25 10:05:28\n",
       "44   2022-10-18 14:36:28\n",
       "45   2022-10-06 06:27:02\n",
       "46   2022-10-24 17:42:59\n",
       "47   2022-10-29 08:49:28\n",
       "Name: date, dtype: datetime64[ns]"
      ]
     },
     "execution_count": 4,
     "metadata": {},
     "output_type": "execute_result"
    }
   ],
   "source": [
    "test_data.testMe(path_to_csv)"
   ]
  },
  {
   "cell_type": "code",
   "execution_count": null,
   "metadata": {},
   "outputs": [],
   "source": []
  }
 ],
 "metadata": {
  "kernelspec": {
   "display_name": "Python 3.9.7 ('env': venv)",
   "language": "python",
   "name": "python3"
  },
  "language_info": {
   "codemirror_mode": {
    "name": "ipython",
    "version": 3
   },
   "file_extension": ".py",
   "mimetype": "text/x-python",
   "name": "python",
   "nbconvert_exporter": "python",
   "pygments_lexer": "ipython3",
   "version": "3.9.7"
  },
  "orig_nbformat": 4,
  "vscode": {
   "interpreter": {
    "hash": "d546b56b063db5a38f1e15c9df1f284b5a175daeb5acd0ce9a369307b9433c25"
   }
  }
 },
 "nbformat": 4,
 "nbformat_minor": 2
}
