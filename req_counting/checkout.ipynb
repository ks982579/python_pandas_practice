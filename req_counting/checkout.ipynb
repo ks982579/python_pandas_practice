{
 "cells": [
  {
   "cell_type": "code",
   "execution_count": 1,
   "metadata": {},
   "outputs": [],
   "source": [
    "from url_handler import ParserData, ParserController, ParserInterface"
   ]
  },
  {
   "cell_type": "code",
   "execution_count": 2,
   "metadata": {},
   "outputs": [],
   "source": [
    "# Remove unwanted columns...\n",
    "new_file_data = \"\"\n",
    "with open(\"./req_fake_data.csv\", mode='r') as _f:\n",
    "    for _el in _f:\n",
    "        if(_el[-2]==\",\"):\n",
    "            new_file_data += _el[:-2]+\"\\n\"\n",
    "\n",
    "if not new_file_data == \"\":\n",
    "    with open(\"./req_fake_data.csv\", mode='w') as _f:\n",
    "        _f.write(new_file_data)"
   ]
  },
  {
   "cell_type": "code",
   "execution_count": 3,
   "metadata": {},
   "outputs": [
    {
     "data": {
      "text/html": [
       "<div>\n",
       "<style scoped>\n",
       "    .dataframe tbody tr th:only-of-type {\n",
       "        vertical-align: middle;\n",
       "    }\n",
       "\n",
       "    .dataframe tbody tr th {\n",
       "        vertical-align: top;\n",
       "    }\n",
       "\n",
       "    .dataframe thead th {\n",
       "        text-align: right;\n",
       "    }\n",
       "</style>\n",
       "<table border=\"1\" class=\"dataframe\">\n",
       "  <thead>\n",
       "    <tr style=\"text-align: right;\">\n",
       "      <th></th>\n",
       "      <th>path</th>\n",
       "      <th>date</th>\n",
       "      <th>time</th>\n",
       "    </tr>\n",
       "  </thead>\n",
       "  <tbody>\n",
       "    <tr>\n",
       "      <th>0</th>\n",
       "      <td>/admin/</td>\n",
       "      <td>2022-10-10</td>\n",
       "      <td>07:42:19</td>\n",
       "    </tr>\n",
       "    <tr>\n",
       "      <th>1</th>\n",
       "      <td>/admin/login/</td>\n",
       "      <td>2022-10-23</td>\n",
       "      <td>14:33:24</td>\n",
       "    </tr>\n",
       "    <tr>\n",
       "      <th>2</th>\n",
       "      <td>/admin/logout/</td>\n",
       "      <td>2022-10-09</td>\n",
       "      <td>18:30:36</td>\n",
       "    </tr>\n",
       "    <tr>\n",
       "      <th>3</th>\n",
       "      <td>/admin/update/</td>\n",
       "      <td>2022-10-12</td>\n",
       "      <td>14:34:49</td>\n",
       "    </tr>\n",
       "    <tr>\n",
       "      <th>4</th>\n",
       "      <td>/kittens/</td>\n",
       "      <td>2022-10-06</td>\n",
       "      <td>13:09:37</td>\n",
       "    </tr>\n",
       "  </tbody>\n",
       "</table>\n",
       "</div>"
      ],
      "text/plain": [
       "             path        date      time\n",
       "0         /admin/  2022-10-10  07:42:19\n",
       "1   /admin/login/  2022-10-23  14:33:24\n",
       "2  /admin/logout/  2022-10-09  18:30:36\n",
       "3  /admin/update/  2022-10-12  14:34:49\n",
       "4       /kittens/  2022-10-06  13:09:37"
      ]
     },
     "execution_count": 3,
     "metadata": {},
     "output_type": "execute_result"
    }
   ],
   "source": [
    "path_to_csv = \"./req_fake_data.csv\"\n",
    "\n",
    "test_data = ParserData(path_to_csv)\n",
    "test_data.dataframe.head(5)"
   ]
  },
  {
   "cell_type": "code",
   "execution_count": null,
   "metadata": {},
   "outputs": [],
   "source": []
  },
  {
   "cell_type": "code",
   "execution_count": null,
   "metadata": {},
   "outputs": [],
   "source": []
  }
 ],
 "metadata": {
  "kernelspec": {
   "display_name": "Python 3.9.7 ('env': venv)",
   "language": "python",
   "name": "python3"
  },
  "language_info": {
   "codemirror_mode": {
    "name": "ipython",
    "version": 3
   },
   "file_extension": ".py",
   "mimetype": "text/x-python",
   "name": "python",
   "nbconvert_exporter": "python",
   "pygments_lexer": "ipython3",
   "version": "3.9.7"
  },
  "orig_nbformat": 4,
  "vscode": {
   "interpreter": {
    "hash": "d546b56b063db5a38f1e15c9df1f284b5a175daeb5acd0ce9a369307b9433c25"
   }
  }
 },
 "nbformat": 4,
 "nbformat_minor": 2
}
