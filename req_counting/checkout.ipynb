{
 "cells": [
  {
   "cell_type": "code",
   "execution_count": 1,
   "metadata": {},
   "outputs": [],
   "source": [
    "from url_handler import ParserData, ParserController, ParserInterface"
   ]
  },
  {
   "cell_type": "code",
   "execution_count": 2,
   "metadata": {},
   "outputs": [],
   "source": [
    "# Remove unwanted columns...\n",
    "new_file_data = \"\"\n",
    "with open(\"./req_fake_data.csv\", mode='r') as _f:\n",
    "    for _el in _f:\n",
    "        if(_el[-2]==\",\"):\n",
    "            new_file_data += _el[:-2]+\"\\n\"\n",
    "\n",
    "if not new_file_data == \"\":\n",
    "    with open(\"./req_fake_data.csv\", mode='w') as _f:\n",
    "        _f.write(new_file_data)"
   ]
  },
  {
   "cell_type": "code",
   "execution_count": 3,
   "metadata": {},
   "outputs": [
    {
     "data": {
      "text/html": [
       "<div>\n",
       "<style scoped>\n",
       "    .dataframe tbody tr th:only-of-type {\n",
       "        vertical-align: middle;\n",
       "    }\n",
       "\n",
       "    .dataframe tbody tr th {\n",
       "        vertical-align: top;\n",
       "    }\n",
       "\n",
       "    .dataframe thead th {\n",
       "        text-align: right;\n",
       "    }\n",
       "</style>\n",
       "<table border=\"1\" class=\"dataframe\">\n",
       "  <thead>\n",
       "    <tr style=\"text-align: right;\">\n",
       "      <th></th>\n",
       "      <th>path</th>\n",
       "      <th>date</th>\n",
       "      <th>time</th>\n",
       "    </tr>\n",
       "  </thead>\n",
       "  <tbody>\n",
       "    <tr>\n",
       "      <th>0</th>\n",
       "      <td>/admin/</td>\n",
       "      <td>2022-10-04</td>\n",
       "      <td>00:03:58</td>\n",
       "    </tr>\n",
       "    <tr>\n",
       "      <th>1</th>\n",
       "      <td>/admin/login/</td>\n",
       "      <td>2022-10-16</td>\n",
       "      <td>08:57:31</td>\n",
       "    </tr>\n",
       "    <tr>\n",
       "      <th>2</th>\n",
       "      <td>/admin/logout/</td>\n",
       "      <td>2022-10-24</td>\n",
       "      <td>02:57:17</td>\n",
       "    </tr>\n",
       "    <tr>\n",
       "      <th>3</th>\n",
       "      <td>/admin/update/</td>\n",
       "      <td>2022-10-31</td>\n",
       "      <td>10:14:08</td>\n",
       "    </tr>\n",
       "    <tr>\n",
       "      <th>4</th>\n",
       "      <td>/kittens/</td>\n",
       "      <td>2022-10-11</td>\n",
       "      <td>06:26:53</td>\n",
       "    </tr>\n",
       "  </tbody>\n",
       "</table>\n",
       "</div>"
      ],
      "text/plain": [
       "             path        date      time\n",
       "0         /admin/  2022-10-04  00:03:58\n",
       "1   /admin/login/  2022-10-16  08:57:31\n",
       "2  /admin/logout/  2022-10-24  02:57:17\n",
       "3  /admin/update/  2022-10-31  10:14:08\n",
       "4       /kittens/  2022-10-11  06:26:53"
      ]
     },
     "execution_count": 3,
     "metadata": {},
     "output_type": "execute_result"
    }
   ],
   "source": [
    "path_to_csv = \"./req_fake_data.csv\"\n",
    "path_to_urls = \"./possible_endpoints.txt\"\n",
    "\n",
    "test_data = ParserData(path_to_csv, path_to_urls)\n",
    "test_data.dataframe.head(5)"
   ]
  },
  {
   "cell_type": "markdown",
   "metadata": {},
   "source": [
    "## Working through Controller Methods"
   ]
  },
  {
   "cell_type": "code",
   "execution_count": 5,
   "metadata": {},
   "outputs": [
    {
     "data": {
      "text/plain": [
       "urls\n",
       "/admin/                      7\n",
       "/admin/login/                2\n",
       "/admin/logout/               2\n",
       "/admin/update/               3\n",
       "/kittens/                    7\n",
       "/kittens/meow/               5\n",
       "/kittens/hiss/               2\n",
       "/kittens/scratch/            2\n",
       "/kittens/pur/                8\n",
       "/kittens/knockover/          4\n",
       "/kittens/knockover/glass/    3\n",
       "/kittens/knockover/vase/     3\n",
       "/kittens/nap/                0\n",
       "Name: requests, dtype: int64"
      ]
     },
     "execution_count": 5,
     "metadata": {},
     "output_type": "execute_result"
    }
   ],
   "source": [
    "newParser = ParserController(path_to_csv, path_to_urls)\n",
    "qd = {\"low\": 25, \"med\": 50, \"high\": 75, \"very-high\": 100}\n",
    "newParser.testMe(qd)"
   ]
  },
  {
   "cell_type": "code",
   "execution_count": null,
   "metadata": {},
   "outputs": [],
   "source": []
  }
 ],
 "metadata": {
  "kernelspec": {
   "display_name": "Python 3.9.7 ('env': venv)",
   "language": "python",
   "name": "python3"
  },
  "language_info": {
   "codemirror_mode": {
    "name": "ipython",
    "version": 3
   },
   "file_extension": ".py",
   "mimetype": "text/x-python",
   "name": "python",
   "nbconvert_exporter": "python",
   "pygments_lexer": "ipython3",
   "version": "3.9.7"
  },
  "orig_nbformat": 4,
  "vscode": {
   "interpreter": {
    "hash": "d546b56b063db5a38f1e15c9df1f284b5a175daeb5acd0ce9a369307b9433c25"
   }
  }
 },
 "nbformat": 4,
 "nbformat_minor": 2
}
