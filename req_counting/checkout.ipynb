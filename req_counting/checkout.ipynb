{
 "cells": [
  {
   "cell_type": "code",
   "execution_count": 1,
   "metadata": {},
   "outputs": [],
   "source": [
    "from url_handler import ParserData, ParserController, ParserInterface"
   ]
  },
  {
   "cell_type": "code",
   "execution_count": 2,
   "metadata": {},
   "outputs": [],
   "source": [
    "# Remove unwanted columns...\n",
    "new_file_data = \"\"\n",
    "with open(\"./req_fake_data.csv\", mode='r') as _f:\n",
    "    for _el in _f:\n",
    "        if(_el[-2]==\",\"):\n",
    "            new_file_data += _el[:-2]+\"\\n\"\n",
    "\n",
    "if not new_file_data == \"\":\n",
    "    with open(\"./req_fake_data.csv\", mode='w') as _f:\n",
    "        _f.write(new_file_data)"
   ]
  },
  {
   "cell_type": "code",
   "execution_count": 3,
   "metadata": {},
   "outputs": [
    {
     "data": {
      "text/html": [
       "<div>\n",
       "<style scoped>\n",
       "    .dataframe tbody tr th:only-of-type {\n",
       "        vertical-align: middle;\n",
       "    }\n",
       "\n",
       "    .dataframe tbody tr th {\n",
       "        vertical-align: top;\n",
       "    }\n",
       "\n",
       "    .dataframe thead th {\n",
       "        text-align: right;\n",
       "    }\n",
       "</style>\n",
       "<table border=\"1\" class=\"dataframe\">\n",
       "  <thead>\n",
       "    <tr style=\"text-align: right;\">\n",
       "      <th></th>\n",
       "      <th>path</th>\n",
       "      <th>date-time</th>\n",
       "      <th>date</th>\n",
       "      <th>time</th>\n",
       "    </tr>\n",
       "  </thead>\n",
       "  <tbody>\n",
       "    <tr>\n",
       "      <th>0</th>\n",
       "      <td>/admin/</td>\n",
       "      <td>2022-08-22 04:40:50</td>\n",
       "      <td>2022-08-22</td>\n",
       "      <td>04:40:50</td>\n",
       "    </tr>\n",
       "    <tr>\n",
       "      <th>1</th>\n",
       "      <td>/admin/login/</td>\n",
       "      <td>2022-09-11 20:20:10</td>\n",
       "      <td>2022-09-11</td>\n",
       "      <td>20:20:10</td>\n",
       "    </tr>\n",
       "    <tr>\n",
       "      <th>2</th>\n",
       "      <td>/admin/logout/</td>\n",
       "      <td>2022-06-02 10:53:04</td>\n",
       "      <td>2022-06-02</td>\n",
       "      <td>10:53:04</td>\n",
       "    </tr>\n",
       "    <tr>\n",
       "      <th>3</th>\n",
       "      <td>/admin/update/</td>\n",
       "      <td>2022-08-27 21:14:18</td>\n",
       "      <td>2022-08-27</td>\n",
       "      <td>21:14:18</td>\n",
       "    </tr>\n",
       "    <tr>\n",
       "      <th>4</th>\n",
       "      <td>/kittens/</td>\n",
       "      <td>2022-08-01 12:59:55</td>\n",
       "      <td>2022-08-01</td>\n",
       "      <td>12:59:55</td>\n",
       "    </tr>\n",
       "  </tbody>\n",
       "</table>\n",
       "</div>"
      ],
      "text/plain": [
       "             path           date-time        date      time\n",
       "0         /admin/ 2022-08-22 04:40:50  2022-08-22  04:40:50\n",
       "1   /admin/login/ 2022-09-11 20:20:10  2022-09-11  20:20:10\n",
       "2  /admin/logout/ 2022-06-02 10:53:04  2022-06-02  10:53:04\n",
       "3  /admin/update/ 2022-08-27 21:14:18  2022-08-27  21:14:18\n",
       "4       /kittens/ 2022-08-01 12:59:55  2022-08-01  12:59:55"
      ]
     },
     "execution_count": 3,
     "metadata": {},
     "output_type": "execute_result"
    }
   ],
   "source": [
    "path_to_csv = \"./req_fake_data.csv\"\n",
    "path_to_urls = \"./possible_endpoints.txt\"\n",
    "\n",
    "test_data = ParserData(path_to_csv, path_to_urls)\n",
    "test_data.dataframe.head(5)"
   ]
  },
  {
   "cell_type": "markdown",
   "metadata": {},
   "source": [
    "## Working through Controller Methods"
   ]
  },
  {
   "cell_type": "code",
   "execution_count": 4,
   "metadata": {},
   "outputs": [
    {
     "data": {
      "text/html": [
       "<div>\n",
       "<style scoped>\n",
       "    .dataframe tbody tr th:only-of-type {\n",
       "        vertical-align: middle;\n",
       "    }\n",
       "\n",
       "    .dataframe tbody tr th {\n",
       "        vertical-align: top;\n",
       "    }\n",
       "\n",
       "    .dataframe thead th {\n",
       "        text-align: right;\n",
       "    }\n",
       "</style>\n",
       "<table border=\"1\" class=\"dataframe\">\n",
       "  <thead>\n",
       "    <tr style=\"text-align: right;\">\n",
       "      <th></th>\n",
       "      <th>requests</th>\n",
       "      <th>usage</th>\n",
       "      <th>root</th>\n",
       "    </tr>\n",
       "    <tr>\n",
       "      <th>urls</th>\n",
       "      <th></th>\n",
       "      <th></th>\n",
       "      <th></th>\n",
       "    </tr>\n",
       "  </thead>\n",
       "  <tbody>\n",
       "    <tr>\n",
       "      <th>/admin/</th>\n",
       "      <td>14</td>\n",
       "      <td>very-high</td>\n",
       "      <td>admin</td>\n",
       "    </tr>\n",
       "    <tr>\n",
       "      <th>/admin/login/</th>\n",
       "      <td>4</td>\n",
       "      <td>low</td>\n",
       "      <td>admin</td>\n",
       "    </tr>\n",
       "    <tr>\n",
       "      <th>/admin/logout/</th>\n",
       "      <td>4</td>\n",
       "      <td>low</td>\n",
       "      <td>admin</td>\n",
       "    </tr>\n",
       "    <tr>\n",
       "      <th>/admin/update/</th>\n",
       "      <td>6</td>\n",
       "      <td>med</td>\n",
       "      <td>admin</td>\n",
       "    </tr>\n",
       "    <tr>\n",
       "      <th>/kittens/meow/</th>\n",
       "      <td>10</td>\n",
       "      <td>very-high</td>\n",
       "      <td>kittens</td>\n",
       "    </tr>\n",
       "    <tr>\n",
       "      <th>/kittens/hiss/</th>\n",
       "      <td>4</td>\n",
       "      <td>low</td>\n",
       "      <td>kittens</td>\n",
       "    </tr>\n",
       "    <tr>\n",
       "      <th>/kittens/scratch/</th>\n",
       "      <td>4</td>\n",
       "      <td>low</td>\n",
       "      <td>kittens</td>\n",
       "    </tr>\n",
       "    <tr>\n",
       "      <th>/kittens/pur/</th>\n",
       "      <td>16</td>\n",
       "      <td>very-high</td>\n",
       "      <td>kittens</td>\n",
       "    </tr>\n",
       "    <tr>\n",
       "      <th>/kittens/knockover/</th>\n",
       "      <td>8</td>\n",
       "      <td>high</td>\n",
       "      <td>kittens</td>\n",
       "    </tr>\n",
       "    <tr>\n",
       "      <th>/kittens/knockover/glass/</th>\n",
       "      <td>6</td>\n",
       "      <td>med</td>\n",
       "      <td>kittens</td>\n",
       "    </tr>\n",
       "    <tr>\n",
       "      <th>/kittens/knockover/vase/</th>\n",
       "      <td>6</td>\n",
       "      <td>med</td>\n",
       "      <td>kittens</td>\n",
       "    </tr>\n",
       "    <tr>\n",
       "      <th>/kittens/nap/</th>\n",
       "      <td>0</td>\n",
       "      <td>none</td>\n",
       "      <td>kittens</td>\n",
       "    </tr>\n",
       "  </tbody>\n",
       "</table>\n",
       "</div>"
      ],
      "text/plain": [
       "                           requests      usage     root\n",
       "urls                                                   \n",
       "/admin/                          14  very-high    admin\n",
       "/admin/login/                     4        low    admin\n",
       "/admin/logout/                    4        low    admin\n",
       "/admin/update/                    6        med    admin\n",
       "/kittens/meow/                   10  very-high  kittens\n",
       "/kittens/hiss/                    4        low  kittens\n",
       "/kittens/scratch/                 4        low  kittens\n",
       "/kittens/pur/                    16  very-high  kittens\n",
       "/kittens/knockover/               8       high  kittens\n",
       "/kittens/knockover/glass/         6        med  kittens\n",
       "/kittens/knockover/vase/          6        med  kittens\n",
       "/kittens/nap/                     0       none  kittens"
      ]
     },
     "execution_count": 4,
     "metadata": {},
     "output_type": "execute_result"
    }
   ],
   "source": [
    "newParser = ParserController(path_to_csv, path_to_urls)\n",
    "qd = {\"low\": 25, \"med\": 50, \"high\": 75, \"very-high\": 100}\n",
    "_ex = ['/kittens/', \"ok\"]\n",
    "newParser.testMe(qd, _ex)"
   ]
  },
  {
   "cell_type": "code",
   "execution_count": 5,
   "metadata": {},
   "outputs": [
    {
     "data": {
      "text/plain": [
       "datetime.datetime(2022, 8, 20, 0, 0)"
      ]
     },
     "execution_count": 5,
     "metadata": {},
     "output_type": "execute_result"
    }
   ],
   "source": [
    "newParser.monthly_groups(13)"
   ]
  }
 ],
 "metadata": {
  "kernelspec": {
   "display_name": "Python 3.9.7 ('env': venv)",
   "language": "python",
   "name": "python3"
  },
  "language_info": {
   "codemirror_mode": {
    "name": "ipython",
    "version": 3
   },
   "file_extension": ".py",
   "mimetype": "text/x-python",
   "name": "python",
   "nbconvert_exporter": "python",
   "pygments_lexer": "ipython3",
   "version": "3.9.7"
  },
  "orig_nbformat": 4,
  "vscode": {
   "interpreter": {
    "hash": "d546b56b063db5a38f1e15c9df1f284b5a175daeb5acd0ce9a369307b9433c25"
   }
  }
 },
 "nbformat": 4,
 "nbformat_minor": 2
}
